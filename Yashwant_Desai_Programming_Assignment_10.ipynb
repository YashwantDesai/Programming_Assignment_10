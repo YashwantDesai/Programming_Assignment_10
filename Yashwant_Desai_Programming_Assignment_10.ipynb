{
 "cells": [
  {
   "cell_type": "markdown",
   "id": "0c27a818",
   "metadata": {},
   "source": [
    "# Yashwant Desai –  Programming_Assingment 10"
   ]
  },
  {
   "cell_type": "markdown",
   "id": "85232f54",
   "metadata": {},
   "source": [
    "# 1.\tWrite a Python program to find sum of elements in list?"
   ]
  },
  {
   "cell_type": "code",
   "execution_count": 1,
   "id": "efb1cf70",
   "metadata": {},
   "outputs": [
    {
     "name": "stdout",
     "output_type": "stream",
     "text": [
      "sum of elements in list:193\n"
     ]
    }
   ],
   "source": [
    "def find_sum_of_elements(number):\n",
    "    num_sum = 0\n",
    "    for num in number:\n",
    "        num_sum += num\n",
    "    return num_sum\n",
    "list_data = [20,40,32,88,13]\n",
    "result = find_sum_of_elements(list_data)\n",
    "print(f\"sum of elements in list:{result}\")"
   ]
  },
  {
   "cell_type": "markdown",
   "id": "34dd087b",
   "metadata": {},
   "source": [
    "# 2.\tWrite a Python program to  Multiply all numbers in the list?"
   ]
  },
  {
   "cell_type": "code",
   "execution_count": 2,
   "id": "b261a297",
   "metadata": {},
   "outputs": [
    {
     "name": "stdout",
     "output_type": "stream",
     "text": [
      "Multiply of elements in list:29286400\n"
     ]
    }
   ],
   "source": [
    "def multiply_all_numbers(number):\n",
    "    num_multiply = 1\n",
    "    for num in number:\n",
    "        num_multiply *= num\n",
    "    return num_multiply\n",
    "list_data = [20,40,32,88,13]\n",
    "result = multiply_all_numbers(list_data)\n",
    "print(f\"Multiply of elements in list:{result}\")"
   ]
  },
  {
   "cell_type": "markdown",
   "id": "ad47bfff",
   "metadata": {},
   "source": [
    "# 3.\tWrite a Python program to find smallest number in a list?"
   ]
  },
  {
   "cell_type": "code",
   "execution_count": 3,
   "id": "ada77b94",
   "metadata": {},
   "outputs": [
    {
     "name": "stdout",
     "output_type": "stream",
     "text": [
      "Smallest number in list is:13\n"
     ]
    }
   ],
   "source": [
    "def find_smallest_number(number):\n",
    "    smallest_number = min(number)\n",
    "    return smallest_number\n",
    "list_data = [20,40,32,88,13]\n",
    "result = find_smallest_number(list_data)\n",
    "print(f\"Smallest number in list is:{result}\")        "
   ]
  },
  {
   "cell_type": "markdown",
   "id": "7dab8f87",
   "metadata": {},
   "source": [
    "# 4.\tWrite a Python program to find largest number in a list?"
   ]
  },
  {
   "cell_type": "code",
   "execution_count": 4,
   "id": "f54ddc86",
   "metadata": {},
   "outputs": [
    {
     "name": "stdout",
     "output_type": "stream",
     "text": [
      "largest number in list is:88\n"
     ]
    }
   ],
   "source": [
    "def find_largest_number(number):\n",
    "    largest_number = max(number)\n",
    "    return largest_number\n",
    "list_data = [20,40,32,88,13]\n",
    "result = find_largest_number(list_data)\n",
    "print(f\"largest number in list is:{result}\")"
   ]
  },
  {
   "cell_type": "markdown",
   "id": "a7fd7734",
   "metadata": {},
   "source": [
    "# 5.\tWrite a Python program to find second largest number in a list?"
   ]
  },
  {
   "cell_type": "code",
   "execution_count": 5,
   "id": "58991365",
   "metadata": {},
   "outputs": [
    {
     "name": "stdout",
     "output_type": "stream",
     "text": [
      "second largest number in list is:40\n"
     ]
    }
   ],
   "source": [
    "def find_second_largest_num(number):\n",
    "    rev_num = sorted(number, reverse=True)\n",
    "    result = rev_num[1]\n",
    "    return result\n",
    "list_data = [20,40,32,88,13]\n",
    "result = find_second_largest_num(list_data)\n",
    "print(f\"second largest number in list is:{result}\")"
   ]
  },
  {
   "cell_type": "markdown",
   "id": "37eeee66",
   "metadata": {},
   "source": [
    "# 6.\tWrite a Python program to find N largest elements from a list?"
   ]
  },
  {
   "cell_type": "code",
   "execution_count": 6,
   "id": "1a0bf316",
   "metadata": {},
   "outputs": [
    {
     "name": "stdout",
     "output_type": "stream",
     "text": [
      "N largest number in list is:[88]\n"
     ]
    }
   ],
   "source": [
    "import heapq\n",
    "def find_N_largest_elements(number,N):\n",
    "    N_largest_elements = heapq.nlargest(N, number)\n",
    "    return N_largest_elements\n",
    "list_data = [20,40,32,88,13]\n",
    "N = 1\n",
    "result = find_N_largest_elements(list_data,N)\n",
    "print(f\"N largest number in list is:{result}\")"
   ]
  },
  {
   "cell_type": "markdown",
   "id": "d4de202b",
   "metadata": {},
   "source": [
    "# 7.\tWrite a Python program to print even numbers in a list?"
   ]
  },
  {
   "cell_type": "code",
   "execution_count": 7,
   "id": "d4810528",
   "metadata": {},
   "outputs": [
    {
     "name": "stdout",
     "output_type": "stream",
     "text": [
      "even_numbers\n",
      "20\n",
      "40\n",
      "32\n",
      "88\n"
     ]
    }
   ],
   "source": [
    "def even_numbers(number):\n",
    "    for num in number:\n",
    "        if num % 2 == 0:\n",
    "            print (num)\n",
    "list_data = [20,40,32,88,13]\n",
    "print(\"even_numbers\")\n",
    "result = even_numbers(list_data)"
   ]
  },
  {
   "cell_type": "markdown",
   "id": "975bc900",
   "metadata": {},
   "source": [
    "# 8.\tWrite a Python program to print odd numbers in a List?"
   ]
  },
  {
   "cell_type": "code",
   "execution_count": 8,
   "id": "2096ff4f",
   "metadata": {},
   "outputs": [
    {
     "name": "stdout",
     "output_type": "stream",
     "text": [
      "odd_numbers\n",
      "13\n",
      "11\n"
     ]
    }
   ],
   "source": [
    "def odd_numbers(number):\n",
    "    for num in number:\n",
    "        if num % 2 != 0:\n",
    "            print (num)\n",
    "list_data = [20,40,32,88,13,11]\n",
    "print(\"odd_numbers\")\n",
    "result = odd_numbers(list_data)"
   ]
  },
  {
   "cell_type": "markdown",
   "id": "cb363f04",
   "metadata": {},
   "source": [
    "# 9.\tWrite a Python program to Remove empty List from List?"
   ]
  },
  {
   "cell_type": "code",
   "execution_count": 9,
   "id": "5715b400",
   "metadata": {},
   "outputs": [
    {
     "name": "stdout",
     "output_type": "stream",
     "text": [
      "updated list: [88, [90], [87], [68], [95]]\n"
     ]
    }
   ],
   "source": [
    "def remove_empty_lists(user_list):\n",
    "    result = []\n",
    "    for user_list_1 in user_list:\n",
    "        if user_list_1:\n",
    "            result.append(user_list_1)\n",
    "    return result\n",
    "input_list = [88, [90], [], [], [87], [68],[], [95]]\n",
    "result = remove_empty_lists(input_list)\n",
    "print(f\"updated list: {result}\")"
   ]
  },
  {
   "cell_type": "markdown",
   "id": "3b86aca1",
   "metadata": {},
   "source": [
    "# 10.\tWrite a Python program to Cloning or Copying a list?"
   ]
  },
  {
   "cell_type": "code",
   "execution_count": 10,
   "id": "c6b11c10",
   "metadata": {},
   "outputs": [
    {
     "name": "stdout",
     "output_type": "stream",
     "text": [
      "user List: [20, 40, 32, 88, 13, 11]\n",
      "updated List: [20, 40, 32, 88, 13, 11]\n"
     ]
    }
   ],
   "source": [
    "def cloning_list(user_list):\n",
    "    return user_list[:]\n",
    "user_list = [20,40,32,88,13,11]\n",
    "updated_list = cloning_list(user_list)\n",
    "print(f\"user List: {user_list}\")\n",
    "print(f\"updated List: {updated_list}\")"
   ]
  },
  {
   "cell_type": "markdown",
   "id": "9592a3d2",
   "metadata": {},
   "source": [
    "# 11.\tWrite a Python program to Count occurrences of an element in a list?"
   ]
  },
  {
   "cell_type": "code",
   "execution_count": 11,
   "id": "db0dacca",
   "metadata": {},
   "outputs": [
    {
     "name": "stdout",
     "output_type": "stream",
     "text": [
      "count of occurrences for 2 in the list: 3\n"
     ]
    }
   ],
   "source": [
    "def count_occurrences(user_list, element):\n",
    "    return user_list.count(element)\n",
    "user_list = [1, 2, 3, 2, 4, 2, 5]\n",
    "element_count = 2\n",
    "result = count_occurrences(user_list, element_count)\n",
    "print(f\"count of occurrences for {element_count} in the list: {result}\")"
   ]
  },
  {
   "cell_type": "markdown",
   "id": "a79c0885",
   "metadata": {},
   "source": [
    "# Done Regards,Yashwant"
   ]
  }
 ],
 "metadata": {
  "kernelspec": {
   "display_name": "Python 3 (ipykernel)",
   "language": "python",
   "name": "python3"
  },
  "language_info": {
   "codemirror_mode": {
    "name": "ipython",
    "version": 3
   },
   "file_extension": ".py",
   "mimetype": "text/x-python",
   "name": "python",
   "nbconvert_exporter": "python",
   "pygments_lexer": "ipython3",
   "version": "3.9.13"
  }
 },
 "nbformat": 4,
 "nbformat_minor": 5
}
